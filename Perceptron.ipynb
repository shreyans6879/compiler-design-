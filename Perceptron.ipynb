{
 "cells": [
  {
   "cell_type": "code",
   "execution_count": 11,
   "id": "0fe551ec",
   "metadata": {},
   "outputs": [],
   "source": [
    "import numpy as np"
   ]
  },
  {
   "cell_type": "code",
   "execution_count": 12,
   "id": "1aa93e76",
   "metadata": {},
   "outputs": [],
   "source": [
    "def perceptron(x, w, bi):\n",
    "    v = np.dot(w, x) + bi\n",
    "    if v>=0:\n",
    "        y= 1\n",
    "    else:\n",
    "        y=0\n",
    "    return y"
   ]
  },
  {
   "cell_type": "code",
   "execution_count": 13,
   "id": "9608e0b8",
   "metadata": {},
   "outputs": [],
   "source": [
    "def logic(x):\n",
    "    w = np.array([1, 1])\n",
    "    bi = -0.5\n",
    "    return perceptron(x, w, bi)"
   ]
  },
  {
   "cell_type": "code",
   "execution_count": 14,
   "id": "49e60278",
   "metadata": {},
   "outputs": [
    {
     "name": "stdout",
     "output_type": "stream",
     "text": [
      "Enter 'a' and 'b' values: 1 0\n",
      "OR of 1 and 0 is: 1\n"
     ]
    }
   ],
   "source": [
    "a,b = map(int, input(\"Enter 'a' and 'b' values: \").split())\n",
    "x= [a,b]\n",
    "print(f'OR of {a} and {b} is: {logic(x)}')"
   ]
  }
 ],
 "metadata": {
  "kernelspec": {
   "display_name": "Python 3 (ipykernel)",
   "language": "python",
   "name": "python3"
  },
  "language_info": {
   "codemirror_mode": {
    "name": "ipython",
    "version": 3
   },
   "file_extension": ".py",
   "mimetype": "text/x-python",
   "name": "python",
   "nbconvert_exporter": "python",
   "pygments_lexer": "ipython3",
   "version": "3.9.7"
  }
 },
 "nbformat": 4,
 "nbformat_minor": 5
}
